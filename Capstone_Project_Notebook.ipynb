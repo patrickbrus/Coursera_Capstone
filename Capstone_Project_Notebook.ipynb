{
 "cells": [
  {
   "cell_type": "markdown",
   "metadata": {},
   "source": [
    "# Capstone Project\n"
   ]
  },
  {
   "cell_type": "markdown",
   "metadata": {},
   "source": [
    "### Note: This notebook will be used for the capstone project required for the IBM Data Science Specialization on coursera."
   ]
  },
  {
   "cell_type": "markdown",
   "metadata": {},
   "source": [
    "The goal of this notebook is, to cluster the neighborhoods of munich in order to find similar neighborhoods to live in."
   ]
  },
  {
   "cell_type": "code",
   "execution_count": 1,
   "metadata": {},
   "outputs": [],
   "source": [
    "# necessary imports\n",
    "import pandas as pd\n",
    "import numpy as np"
   ]
  },
  {
   "cell_type": "code",
   "execution_count": 2,
   "metadata": {},
   "outputs": [
    {
     "name": "stdout",
     "output_type": "stream",
     "text": [
      "Hello Capstone Project Course!\n"
     ]
    }
   ],
   "source": [
    "print(\"Hello Capstone Project Course!\")"
   ]
  },
  {
   "cell_type": "code",
   "execution_count": 3,
   "metadata": {},
   "outputs": [
    {
     "name": "stdout",
     "output_type": "stream",
     "text": [
      "Libraries imported.\n"
     ]
    }
   ],
   "source": [
    "import numpy as np # library to handle data in a vectorized manner\n",
    "\n",
    "import pandas as pd # library for data analsysis\n",
    "pd.set_option('display.max_columns', None)\n",
    "pd.set_option('display.max_rows', None)\n",
    "\n",
    "import json # library to handle JSON files\n",
    "\n",
    "#!conda install -c conda-forge geopy --yes # uncomment this line if you haven't completed the Foursquare API lab\n",
    "from geopy.geocoders import Nominatim # convert an address into latitude and longitude values\n",
    "\n",
    "import requests # library to handle requests\n",
    "from pandas.io.json import json_normalize # tranform JSON file into a pandas dataframe\n",
    "\n",
    "# Matplotlib and associated plotting modules\n",
    "import matplotlib.cm as cm\n",
    "import matplotlib.colors as colors\n",
    "\n",
    "# import k-means from clustering stage\n",
    "from sklearn.cluster import KMeans\n",
    "\n",
    "#!conda install -c conda-forge folium=0.5.0 --yes # uncomment this line if you haven't completed the Foursquare API lab\n",
    "import folium # map rendering library\n",
    "\n",
    "print('Libraries imported.')"
   ]
  },
  {
   "cell_type": "markdown",
   "metadata": {},
   "source": [
    "Let's get the geographical coordinates of Munich."
   ]
  },
  {
   "cell_type": "code",
   "execution_count": 4,
   "metadata": {},
   "outputs": [
    {
     "name": "stdout",
     "output_type": "stream",
     "text": [
      "The geograpical coordinate of Munich are 48.1371079, 11.5753822.\n"
     ]
    }
   ],
   "source": [
    "address = 'Munich'\n",
    "\n",
    "geolocator = Nominatim(user_agent=\"ny_explorer\")\n",
    "location = geolocator.geocode(address)\n",
    "latitude_munich = location.latitude\n",
    "longitude_munich = location.longitude\n",
    "print('The geograpical coordinate of Munich are {}, {}.'.format(latitude_munich, longitude_munich))"
   ]
  },
  {
   "cell_type": "markdown",
   "metadata": {},
   "source": [
    "Let's get the postal codes of munich in germany."
   ]
  },
  {
   "cell_type": "code",
   "execution_count": 5,
   "metadata": {},
   "outputs": [
    {
     "data": {
      "text/html": [
       "<div>\n",
       "<style scoped>\n",
       "    .dataframe tbody tr th:only-of-type {\n",
       "        vertical-align: middle;\n",
       "    }\n",
       "\n",
       "    .dataframe tbody tr th {\n",
       "        vertical-align: top;\n",
       "    }\n",
       "\n",
       "    .dataframe thead th {\n",
       "        text-align: right;\n",
       "    }\n",
       "</style>\n",
       "<table border=\"1\" class=\"dataframe\">\n",
       "  <thead>\n",
       "    <tr style=\"text-align: right;\">\n",
       "      <th></th>\n",
       "      <th>District</th>\n",
       "      <th>Postal Code</th>\n",
       "    </tr>\n",
       "  </thead>\n",
       "  <tbody>\n",
       "    <tr>\n",
       "      <th>0</th>\n",
       "      <td>Allach-Untermenzing</td>\n",
       "      <td>80995, 80997, 80999, 81247, 81249</td>\n",
       "    </tr>\n",
       "    <tr>\n",
       "      <th>1</th>\n",
       "      <td>Altstadt-Lehel</td>\n",
       "      <td>80331, 80333, 80335, 80336, 80469, 80538, 80539</td>\n",
       "    </tr>\n",
       "    <tr>\n",
       "      <th>2</th>\n",
       "      <td>Au-Haidhausen</td>\n",
       "      <td>81541, 81543, 81667, 81669, 81671, 81675, 81677</td>\n",
       "    </tr>\n",
       "    <tr>\n",
       "      <th>3</th>\n",
       "      <td>Aubing-Lochhausen-Langwied</td>\n",
       "      <td>81243, 81245, 81249</td>\n",
       "    </tr>\n",
       "    <tr>\n",
       "      <th>4</th>\n",
       "      <td>Berg am Laim</td>\n",
       "      <td>81671, 81673, 81735, 81825</td>\n",
       "    </tr>\n",
       "    <tr>\n",
       "      <th>5</th>\n",
       "      <td>Bogenhausen</td>\n",
       "      <td>81675, 81677, 81679, 81925, 81927, 81929</td>\n",
       "    </tr>\n",
       "    <tr>\n",
       "      <th>6</th>\n",
       "      <td>Feldmoching-Hasenbergl</td>\n",
       "      <td>80933, 80935, 80995</td>\n",
       "    </tr>\n",
       "    <tr>\n",
       "      <th>7</th>\n",
       "      <td>Hadern</td>\n",
       "      <td>80689, 81375, 81377</td>\n",
       "    </tr>\n",
       "    <tr>\n",
       "      <th>8</th>\n",
       "      <td>Laim</td>\n",
       "      <td>80686, 80687, 80689</td>\n",
       "    </tr>\n",
       "    <tr>\n",
       "      <th>9</th>\n",
       "      <td>Ludwigsvorstadt-Isarvorstadt</td>\n",
       "      <td>80335, 80336, 80337, 80469</td>\n",
       "    </tr>\n",
       "    <tr>\n",
       "      <th>10</th>\n",
       "      <td>Maxvorstadt</td>\n",
       "      <td>80333, 80335, 80539, 80636, 80797, 80798, 8079...</td>\n",
       "    </tr>\n",
       "    <tr>\n",
       "      <th>11</th>\n",
       "      <td>Milbertshofen-Am Hart</td>\n",
       "      <td>80807, 80809, 80937, 80939</td>\n",
       "    </tr>\n",
       "    <tr>\n",
       "      <th>12</th>\n",
       "      <td>Moosach</td>\n",
       "      <td>80637, 80638, 80992, 80993, 80997</td>\n",
       "    </tr>\n",
       "    <tr>\n",
       "      <th>13</th>\n",
       "      <td>Neuhausen-Nymphenburg</td>\n",
       "      <td>80634, 80636, 80637, 80638, 80639</td>\n",
       "    </tr>\n",
       "    <tr>\n",
       "      <th>14</th>\n",
       "      <td>Obergiesing</td>\n",
       "      <td>81539, 81541, 81547, 81549</td>\n",
       "    </tr>\n",
       "    <tr>\n",
       "      <th>15</th>\n",
       "      <td>Pasing-Obermenzing</td>\n",
       "      <td>80687, 80689, 81241, 81243, 81245, 81247</td>\n",
       "    </tr>\n",
       "    <tr>\n",
       "      <th>16</th>\n",
       "      <td>Ramersdorf-Perlach</td>\n",
       "      <td>81539, 81549, 81669, 81671, 81735, 81737, 81739</td>\n",
       "    </tr>\n",
       "    <tr>\n",
       "      <th>17</th>\n",
       "      <td>Schwabing-Freimann</td>\n",
       "      <td>80538, 80801, 80802, 80803, 80804, 80805, 8080...</td>\n",
       "    </tr>\n",
       "    <tr>\n",
       "      <th>18</th>\n",
       "      <td>Schwabing-West</td>\n",
       "      <td>80796, 80797, 80798, 80799, 80801, 80803, 8080...</td>\n",
       "    </tr>\n",
       "    <tr>\n",
       "      <th>19</th>\n",
       "      <td>Schwanthalerhöhe</td>\n",
       "      <td>80335, 80339</td>\n",
       "    </tr>\n",
       "    <tr>\n",
       "      <th>20</th>\n",
       "      <td>Sendling</td>\n",
       "      <td>80336, 80337, 80469, 81369, 81371, 81373, 81379</td>\n",
       "    </tr>\n",
       "    <tr>\n",
       "      <th>21</th>\n",
       "      <td>Sendling-Westpark</td>\n",
       "      <td>80686, 81369, 81373, 81377, 81379</td>\n",
       "    </tr>\n",
       "    <tr>\n",
       "      <th>22</th>\n",
       "      <td>Thalkirchen-Obersendling-Fürstenried-Forstenri...</td>\n",
       "      <td>81379, 81475, 81476, 81477, 81479</td>\n",
       "    </tr>\n",
       "    <tr>\n",
       "      <th>23</th>\n",
       "      <td>Trudering-Riem</td>\n",
       "      <td>81735, 81825, 81827, 81829</td>\n",
       "    </tr>\n",
       "    <tr>\n",
       "      <th>24</th>\n",
       "      <td>Untergiesing-Harlaching</td>\n",
       "      <td>81543, 81545, 81547</td>\n",
       "    </tr>\n",
       "  </tbody>\n",
       "</table>\n",
       "</div>"
      ],
      "text/plain": [
       "                                             District  \\\n",
       "0                                 Allach-Untermenzing   \n",
       "1                                      Altstadt-Lehel   \n",
       "2                                       Au-Haidhausen   \n",
       "3                          Aubing-Lochhausen-Langwied   \n",
       "4                                        Berg am Laim   \n",
       "5                                         Bogenhausen   \n",
       "6                              Feldmoching-Hasenbergl   \n",
       "7                                              Hadern   \n",
       "8                                                Laim   \n",
       "9                        Ludwigsvorstadt-Isarvorstadt   \n",
       "10                                        Maxvorstadt   \n",
       "11                              Milbertshofen-Am Hart   \n",
       "12                                            Moosach   \n",
       "13                              Neuhausen-Nymphenburg   \n",
       "14                                        Obergiesing   \n",
       "15                                 Pasing-Obermenzing   \n",
       "16                                 Ramersdorf-Perlach   \n",
       "17                                 Schwabing-Freimann   \n",
       "18                                     Schwabing-West   \n",
       "19                                   Schwanthalerhöhe   \n",
       "20                                           Sendling   \n",
       "21                                  Sendling-Westpark   \n",
       "22  Thalkirchen-Obersendling-Fürstenried-Forstenri...   \n",
       "23                                     Trudering-Riem   \n",
       "24                            Untergiesing-Harlaching   \n",
       "\n",
       "                                          Postal Code  \n",
       "0                   80995, 80997, 80999, 81247, 81249  \n",
       "1     80331, 80333, 80335, 80336, 80469, 80538, 80539  \n",
       "2     81541, 81543, 81667, 81669, 81671, 81675, 81677  \n",
       "3                                 81243, 81245, 81249  \n",
       "4                          81671, 81673, 81735, 81825  \n",
       "5            81675, 81677, 81679, 81925, 81927, 81929  \n",
       "6                                 80933, 80935, 80995  \n",
       "7                                 80689, 81375, 81377  \n",
       "8                                 80686, 80687, 80689  \n",
       "9                          80335, 80336, 80337, 80469  \n",
       "10  80333, 80335, 80539, 80636, 80797, 80798, 8079...  \n",
       "11                         80807, 80809, 80937, 80939  \n",
       "12                  80637, 80638, 80992, 80993, 80997  \n",
       "13                  80634, 80636, 80637, 80638, 80639  \n",
       "14                         81539, 81541, 81547, 81549  \n",
       "15           80687, 80689, 81241, 81243, 81245, 81247  \n",
       "16    81539, 81549, 81669, 81671, 81735, 81737, 81739  \n",
       "17  80538, 80801, 80802, 80803, 80804, 80805, 8080...  \n",
       "18  80796, 80797, 80798, 80799, 80801, 80803, 8080...  \n",
       "19                                       80335, 80339  \n",
       "20    80336, 80337, 80469, 81369, 81371, 81373, 81379  \n",
       "21                  80686, 81369, 81373, 81377, 81379  \n",
       "22                  81379, 81475, 81476, 81477, 81479  \n",
       "23                         81735, 81825, 81827, 81829  \n",
       "24                                81543, 81545, 81547  "
      ]
     },
     "execution_count": 5,
     "metadata": {},
     "output_type": "execute_result"
    }
   ],
   "source": [
    "url = 'https://www.muenchen.de/int/en/living/postal-codes.html'\n",
    "munich_data_list = pd.read_html(url)\n",
    "munich_data = munich_data_list[0]\n",
    "munich_data"
   ]
  },
  {
   "cell_type": "markdown",
   "metadata": {},
   "source": [
    "## Preprocessing"
   ]
  },
  {
   "cell_type": "markdown",
   "metadata": {},
   "source": [
    "Let's start to preprocess the data in order to have a acceptable data format"
   ]
  },
  {
   "cell_type": "markdown",
   "metadata": {},
   "source": [
    "First step: Split all places according to their postal codes"
   ]
  },
  {
   "cell_type": "code",
   "execution_count": 6,
   "metadata": {},
   "outputs": [
    {
     "data": {
      "text/html": [
       "<div>\n",
       "<style scoped>\n",
       "    .dataframe tbody tr th:only-of-type {\n",
       "        vertical-align: middle;\n",
       "    }\n",
       "\n",
       "    .dataframe tbody tr th {\n",
       "        vertical-align: top;\n",
       "    }\n",
       "\n",
       "    .dataframe thead th {\n",
       "        text-align: right;\n",
       "    }\n",
       "</style>\n",
       "<table border=\"1\" class=\"dataframe\">\n",
       "  <thead>\n",
       "    <tr style=\"text-align: right;\">\n",
       "      <th></th>\n",
       "      <th>District</th>\n",
       "      <th>Postal Code</th>\n",
       "    </tr>\n",
       "  </thead>\n",
       "  <tbody>\n",
       "  </tbody>\n",
       "</table>\n",
       "</div>"
      ],
      "text/plain": [
       "Empty DataFrame\n",
       "Columns: [District, Postal Code]\n",
       "Index: []"
      ]
     },
     "execution_count": 6,
     "metadata": {},
     "output_type": "execute_result"
    }
   ],
   "source": [
    "munich_data_cleaned = pd.DataFrame(columns=['District', 'Postal Code'])\n",
    "munich_data_cleaned.head()"
   ]
  },
  {
   "cell_type": "code",
   "execution_count": 7,
   "metadata": {},
   "outputs": [],
   "source": [
    "items = []\n",
    "for idx, codes in enumerate(munich_data['Postal Code']):\n",
    "    code_list = codes.split(',')\n",
    "    district = munich_data['District'][idx]\n",
    "    for element in code_list:\n",
    "        element = element.replace(' ', '')\n",
    "        items.append({'District': district, 'Postal Code': element})"
   ]
  },
  {
   "cell_type": "code",
   "execution_count": 8,
   "metadata": {},
   "outputs": [
    {
     "data": {
      "text/html": [
       "<div>\n",
       "<style scoped>\n",
       "    .dataframe tbody tr th:only-of-type {\n",
       "        vertical-align: middle;\n",
       "    }\n",
       "\n",
       "    .dataframe tbody tr th {\n",
       "        vertical-align: top;\n",
       "    }\n",
       "\n",
       "    .dataframe thead th {\n",
       "        text-align: right;\n",
       "    }\n",
       "</style>\n",
       "<table border=\"1\" class=\"dataframe\">\n",
       "  <thead>\n",
       "    <tr style=\"text-align: right;\">\n",
       "      <th></th>\n",
       "      <th>District</th>\n",
       "      <th>Postal Code</th>\n",
       "    </tr>\n",
       "  </thead>\n",
       "  <tbody>\n",
       "    <tr>\n",
       "      <th>0</th>\n",
       "      <td>Allach-Untermenzing</td>\n",
       "      <td>80995</td>\n",
       "    </tr>\n",
       "    <tr>\n",
       "      <th>1</th>\n",
       "      <td>Allach-Untermenzing</td>\n",
       "      <td>80997</td>\n",
       "    </tr>\n",
       "    <tr>\n",
       "      <th>2</th>\n",
       "      <td>Allach-Untermenzing</td>\n",
       "      <td>80999</td>\n",
       "    </tr>\n",
       "    <tr>\n",
       "      <th>3</th>\n",
       "      <td>Allach-Untermenzing</td>\n",
       "      <td>81247</td>\n",
       "    </tr>\n",
       "    <tr>\n",
       "      <th>4</th>\n",
       "      <td>Allach-Untermenzing</td>\n",
       "      <td>81249</td>\n",
       "    </tr>\n",
       "  </tbody>\n",
       "</table>\n",
       "</div>"
      ],
      "text/plain": [
       "              District Postal Code\n",
       "0  Allach-Untermenzing       80995\n",
       "1  Allach-Untermenzing       80997\n",
       "2  Allach-Untermenzing       80999\n",
       "3  Allach-Untermenzing       81247\n",
       "4  Allach-Untermenzing       81249"
      ]
     },
     "execution_count": 8,
     "metadata": {},
     "output_type": "execute_result"
    }
   ],
   "source": [
    "munich_data_cleaned = munich_data_cleaned.append(items)\n",
    "munich_data_cleaned.head()"
   ]
  },
  {
   "cell_type": "markdown",
   "metadata": {},
   "source": [
    "Let's now fetch all latitude and longitude values for each Postal Code by using the Foursquare API"
   ]
  },
  {
   "cell_type": "code",
   "execution_count": 9,
   "metadata": {},
   "outputs": [
    {
     "name": "stdout",
     "output_type": "stream",
     "text": [
      "Your credentails:\n",
      "CLIENT_ID: S3SWDZ4KH1KEXMKCPNHUQT0HDXWF2YHNZMYNE4UCNK0O2G1C\n",
      "CLIENT_SECRET:PKGFEDIOKLA3RWYA5EY0SM2WDWU42MCTJPO1D012L2JVI1BO\n"
     ]
    }
   ],
   "source": [
    "# credentials\n",
    "CLIENT_ID = 'S3SWDZ4KH1KEXMKCPNHUQT0HDXWF2YHNZMYNE4UCNK0O2G1C' # your Foursquare ID\n",
    "CLIENT_SECRET = 'PKGFEDIOKLA3RWYA5EY0SM2WDWU42MCTJPO1D012L2JVI1BO' # your Foursquare Secret\n",
    "VERSION = '20200410' # Foursquare API version\n",
    "LIMIT = 100\n",
    "\n",
    "print('Your credentails:')\n",
    "print('CLIENT_ID: ' + CLIENT_ID)\n",
    "print('CLIENT_SECRET:' + CLIENT_SECRET)"
   ]
  },
  {
   "cell_type": "code",
   "execution_count": 10,
   "metadata": {},
   "outputs": [],
   "source": [
    "# create new dataframe additionally containing the latitude and longitude values of each district and postal code mapping \n",
    "munich_data_ll = pd.DataFrame(columns=['District', 'Postal Code', 'Latitude', 'Longitude'])\n",
    "\n",
    "# loop over all entries of old data frame and store according values\n",
    "items = []\n",
    "for idx, district in enumerate(munich_data_cleaned['District']):\n",
    "    code = munich_data_cleaned['Postal Code'][idx]\n",
    "    address = district + ', ' + code # to get format of address\n",
    "\n",
    "    geolocator = Nominatim(user_agent=\"ny_explorer\")\n",
    "    location = geolocator.geocode(address)\n",
    "    latitude = location.latitude\n",
    "    longitude = location.longitude\n",
    "    items.append({'District': district, \n",
    "                  'Postal Code': code,\n",
    "                  'Latitude': latitude,\n",
    "                  'Longitude': longitude})"
   ]
  },
  {
   "cell_type": "code",
   "execution_count": 11,
   "metadata": {},
   "outputs": [
    {
     "data": {
      "text/html": [
       "<div>\n",
       "<style scoped>\n",
       "    .dataframe tbody tr th:only-of-type {\n",
       "        vertical-align: middle;\n",
       "    }\n",
       "\n",
       "    .dataframe tbody tr th {\n",
       "        vertical-align: top;\n",
       "    }\n",
       "\n",
       "    .dataframe thead th {\n",
       "        text-align: right;\n",
       "    }\n",
       "</style>\n",
       "<table border=\"1\" class=\"dataframe\">\n",
       "  <thead>\n",
       "    <tr style=\"text-align: right;\">\n",
       "      <th></th>\n",
       "      <th>District</th>\n",
       "      <th>Postal Code</th>\n",
       "      <th>Latitude</th>\n",
       "      <th>Longitude</th>\n",
       "    </tr>\n",
       "  </thead>\n",
       "  <tbody>\n",
       "    <tr>\n",
       "      <th>0</th>\n",
       "      <td>Allach-Untermenzing</td>\n",
       "      <td>80995</td>\n",
       "      <td>48.190034</td>\n",
       "      <td>11.468105</td>\n",
       "    </tr>\n",
       "    <tr>\n",
       "      <th>1</th>\n",
       "      <td>Allach-Untermenzing</td>\n",
       "      <td>80997</td>\n",
       "      <td>48.192790</td>\n",
       "      <td>11.484461</td>\n",
       "    </tr>\n",
       "    <tr>\n",
       "      <th>2</th>\n",
       "      <td>Allach-Untermenzing</td>\n",
       "      <td>80999</td>\n",
       "      <td>48.195994</td>\n",
       "      <td>11.457013</td>\n",
       "    </tr>\n",
       "    <tr>\n",
       "      <th>3</th>\n",
       "      <td>Allach-Untermenzing</td>\n",
       "      <td>81247</td>\n",
       "      <td>48.176884</td>\n",
       "      <td>11.476058</td>\n",
       "    </tr>\n",
       "    <tr>\n",
       "      <th>4</th>\n",
       "      <td>Allach-Untermenzing</td>\n",
       "      <td>81249</td>\n",
       "      <td>48.176884</td>\n",
       "      <td>11.476058</td>\n",
       "    </tr>\n",
       "  </tbody>\n",
       "</table>\n",
       "</div>"
      ],
      "text/plain": [
       "              District Postal Code   Latitude  Longitude\n",
       "0  Allach-Untermenzing       80995  48.190034  11.468105\n",
       "1  Allach-Untermenzing       80997  48.192790  11.484461\n",
       "2  Allach-Untermenzing       80999  48.195994  11.457013\n",
       "3  Allach-Untermenzing       81247  48.176884  11.476058\n",
       "4  Allach-Untermenzing       81249  48.176884  11.476058"
      ]
     },
     "execution_count": 11,
     "metadata": {},
     "output_type": "execute_result"
    }
   ],
   "source": [
    "munich_data_ll = munich_data_ll.append(items)\n",
    "munich_data_ll.head()"
   ]
  },
  {
   "cell_type": "markdown",
   "metadata": {},
   "source": [
    "## Visualization"
   ]
  },
  {
   "cell_type": "markdown",
   "metadata": {},
   "source": [
    "Let's now create a map of all districts in munich."
   ]
  },
  {
   "cell_type": "code",
   "execution_count": 12,
   "metadata": {},
   "outputs": [
    {
     "data": {
      "text/html": [
       "<div style=\"width:100%;\"><div style=\"position:relative;width:100%;height:0;padding-bottom:60%;\"><iframe src=\"about:blank\" style=\"position:absolute;width:100%;height:100%;left:0;top:0;border:none !important;\" data-html=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 onload=\"this.contentDocument.open();this.contentDocument.write(atob(this.getAttribute('data-html')));this.contentDocument.close();\" allowfullscreen webkitallowfullscreen mozallowfullscreen></iframe></div></div>"
      ],
      "text/plain": [
       "<folium.folium.Map at 0x7f04fc9aef98>"
      ]
     },
     "execution_count": 12,
     "metadata": {},
     "output_type": "execute_result"
    }
   ],
   "source": [
    "# create map of munich using latitude and longitude values\n",
    "map_munich = folium.Map(location=[munich_data_ll[\"Latitude\"].iloc[0], munich_data_ll[\"Longitude\"].iloc[0]], zoom_start=11)\n",
    "\n",
    "# add markers to map\n",
    "for lat, lng, district in zip(munich_data_ll['Latitude'], munich_data_ll['Longitude'], munich_data_ll['District']):\n",
    "    label = '{}'.format(district)\n",
    "    label = folium.Popup(label, parse_html=True)\n",
    "    folium.CircleMarker(\n",
    "        [lat, lng],\n",
    "        radius=5,\n",
    "        popup=label,\n",
    "        color='blue',\n",
    "        fill=True,\n",
    "        fill_color='#3186cc',\n",
    "        fill_opacity=0.7,\n",
    "        parse_html=False).add_to(map_munich)  \n",
    "    \n",
    "map_munich"
   ]
  },
  {
   "cell_type": "markdown",
   "metadata": {},
   "source": [
    "## District Exploration"
   ]
  },
  {
   "cell_type": "markdown",
   "metadata": {},
   "source": [
    "Let's now explore all districts in munich by fetching venues in the near of each district with the help of the foursquare API."
   ]
  },
  {
   "cell_type": "code",
   "execution_count": 15,
   "metadata": {},
   "outputs": [],
   "source": [
    "# function for getting all venues of munich\n",
    "def getNearbyVenues(names, latitudes, longitudes, radius=500):\n",
    "    \n",
    "    venues_list=[]\n",
    "    for name, lat, lng in zip(names, latitudes, longitudes):\n",
    "        print(name)\n",
    "            \n",
    "        # create the API request URL\n",
    "        url = 'https://api.foursquare.com/v2/venues/explore?&client_id={}&client_secret={}&v={}&ll={},{}&radius={}&limit={}'.format(\n",
    "            CLIENT_ID, \n",
    "            CLIENT_SECRET, \n",
    "            VERSION, \n",
    "            lat, \n",
    "            lng, \n",
    "            radius, \n",
    "            LIMIT)\n",
    "            \n",
    "        # make the GET request\n",
    "        results = requests.get(url).json()[\"response\"]['groups'][0]['items']\n",
    "        \n",
    "        # return only relevant information for each nearby venue\n",
    "        venues_list.append([(\n",
    "            name, \n",
    "            lat, \n",
    "            lng, \n",
    "            v['venue']['name'], \n",
    "            v['venue']['location']['lat'], \n",
    "            v['venue']['location']['lng'],  \n",
    "            v['venue']['categories'][0]['name']) for v in results])\n",
    "\n",
    "    nearby_venues = pd.DataFrame([item for venue_list in venues_list for item in venue_list])\n",
    "    nearby_venues.columns = ['District', \n",
    "                  'Latitude', \n",
    "                  'Longitude', \n",
    "                  'Venue', \n",
    "                  'Venue Latitude', \n",
    "                  'Venue Longitude', \n",
    "                  'Venue Category']\n",
    "    \n",
    "    return(nearby_venues)"
   ]
  },
  {
   "cell_type": "code",
   "execution_count": 16,
   "metadata": {},
   "outputs": [
    {
     "name": "stdout",
     "output_type": "stream",
     "text": [
      "Allach-Untermenzing\n",
      "Allach-Untermenzing\n",
      "Allach-Untermenzing\n",
      "Allach-Untermenzing\n",
      "Allach-Untermenzing\n",
      "Altstadt-Lehel\n",
      "Altstadt-Lehel\n",
      "Altstadt-Lehel\n",
      "Altstadt-Lehel\n",
      "Altstadt-Lehel\n",
      "Altstadt-Lehel\n",
      "Altstadt-Lehel\n",
      "Au-Haidhausen\n",
      "Au-Haidhausen\n",
      "Au-Haidhausen\n",
      "Au-Haidhausen\n",
      "Au-Haidhausen\n",
      "Au-Haidhausen\n",
      "Au-Haidhausen\n",
      "Aubing-Lochhausen-Langwied\n",
      "Aubing-Lochhausen-Langwied\n",
      "Aubing-Lochhausen-Langwied\n",
      "Berg am Laim\n",
      "Berg am Laim\n",
      "Berg am Laim\n",
      "Berg am Laim\n",
      "Bogenhausen\n",
      "Bogenhausen\n",
      "Bogenhausen\n",
      "Bogenhausen\n",
      "Bogenhausen\n",
      "Bogenhausen\n",
      "Feldmoching-Hasenbergl\n",
      "Feldmoching-Hasenbergl\n",
      "Feldmoching-Hasenbergl\n",
      "Hadern\n",
      "Hadern\n",
      "Hadern\n",
      "Laim\n",
      "Laim\n",
      "Laim\n",
      "Ludwigsvorstadt-Isarvorstadt\n",
      "Ludwigsvorstadt-Isarvorstadt\n",
      "Ludwigsvorstadt-Isarvorstadt\n",
      "Ludwigsvorstadt-Isarvorstadt\n",
      "Maxvorstadt\n",
      "Maxvorstadt\n",
      "Maxvorstadt\n",
      "Maxvorstadt\n",
      "Maxvorstadt\n",
      "Maxvorstadt\n",
      "Maxvorstadt\n",
      "Maxvorstadt\n",
      "Maxvorstadt\n",
      "Milbertshofen-Am Hart\n",
      "Milbertshofen-Am Hart\n",
      "Milbertshofen-Am Hart\n",
      "Milbertshofen-Am Hart\n",
      "Moosach\n",
      "Moosach\n",
      "Moosach\n",
      "Moosach\n",
      "Moosach\n",
      "Neuhausen-Nymphenburg\n",
      "Neuhausen-Nymphenburg\n",
      "Neuhausen-Nymphenburg\n",
      "Neuhausen-Nymphenburg\n",
      "Neuhausen-Nymphenburg\n",
      "Obergiesing\n",
      "Obergiesing\n",
      "Obergiesing\n",
      "Obergiesing\n",
      "Pasing-Obermenzing\n",
      "Pasing-Obermenzing\n",
      "Pasing-Obermenzing\n",
      "Pasing-Obermenzing\n",
      "Pasing-Obermenzing\n",
      "Pasing-Obermenzing\n",
      "Ramersdorf-Perlach\n",
      "Ramersdorf-Perlach\n",
      "Ramersdorf-Perlach\n",
      "Ramersdorf-Perlach\n",
      "Ramersdorf-Perlach\n",
      "Ramersdorf-Perlach\n",
      "Ramersdorf-Perlach\n",
      "Schwabing-Freimann\n",
      "Schwabing-Freimann\n",
      "Schwabing-Freimann\n",
      "Schwabing-Freimann\n",
      "Schwabing-Freimann\n",
      "Schwabing-Freimann\n",
      "Schwabing-Freimann\n",
      "Schwabing-Freimann\n",
      "Schwabing-West\n",
      "Schwabing-West\n",
      "Schwabing-West\n",
      "Schwabing-West\n",
      "Schwabing-West\n",
      "Schwabing-West\n",
      "Schwabing-West\n",
      "Schwabing-West\n",
      "Schwanthalerhöhe\n",
      "Schwanthalerhöhe\n",
      "Sendling\n",
      "Sendling\n",
      "Sendling\n",
      "Sendling\n",
      "Sendling\n",
      "Sendling\n",
      "Sendling\n",
      "Sendling-Westpark\n",
      "Sendling-Westpark\n",
      "Sendling-Westpark\n",
      "Sendling-Westpark\n",
      "Sendling-Westpark\n",
      "Thalkirchen-Obersendling-Fürstenried-Forstenried-Solln\n",
      "Thalkirchen-Obersendling-Fürstenried-Forstenried-Solln\n",
      "Thalkirchen-Obersendling-Fürstenried-Forstenried-Solln\n",
      "Thalkirchen-Obersendling-Fürstenried-Forstenried-Solln\n",
      "Thalkirchen-Obersendling-Fürstenried-Forstenried-Solln\n",
      "Trudering-Riem\n",
      "Trudering-Riem\n",
      "Trudering-Riem\n",
      "Trudering-Riem\n",
      "Untergiesing-Harlaching\n",
      "Untergiesing-Harlaching\n",
      "Untergiesing-Harlaching\n"
     ]
    }
   ],
   "source": [
    "munich_venues = getNearbyVenues(names=munich_data_ll['District'],\n",
    "                                   latitudes=munich_data_ll['Latitude'],\n",
    "                                   longitudes=munich_data_ll['Longitude']\n",
    "                                  )"
   ]
  },
  {
   "cell_type": "code",
   "execution_count": 17,
   "metadata": {},
   "outputs": [
    {
     "data": {
      "text/plain": [
       "(3561, 7)"
      ]
     },
     "execution_count": 17,
     "metadata": {},
     "output_type": "execute_result"
    }
   ],
   "source": [
    "# lets get the shape of the new dataframe\n",
    "munich_venues.shape"
   ]
  },
  {
   "cell_type": "code",
   "execution_count": 18,
   "metadata": {},
   "outputs": [
    {
     "data": {
      "text/html": [
       "<div>\n",
       "<style scoped>\n",
       "    .dataframe tbody tr th:only-of-type {\n",
       "        vertical-align: middle;\n",
       "    }\n",
       "\n",
       "    .dataframe tbody tr th {\n",
       "        vertical-align: top;\n",
       "    }\n",
       "\n",
       "    .dataframe thead th {\n",
       "        text-align: right;\n",
       "    }\n",
       "</style>\n",
       "<table border=\"1\" class=\"dataframe\">\n",
       "  <thead>\n",
       "    <tr style=\"text-align: right;\">\n",
       "      <th></th>\n",
       "      <th>District</th>\n",
       "      <th>Latitude</th>\n",
       "      <th>Longitude</th>\n",
       "      <th>Venue</th>\n",
       "      <th>Venue Latitude</th>\n",
       "      <th>Venue Longitude</th>\n",
       "      <th>Venue Category</th>\n",
       "    </tr>\n",
       "  </thead>\n",
       "  <tbody>\n",
       "    <tr>\n",
       "      <th>0</th>\n",
       "      <td>Allach-Untermenzing</td>\n",
       "      <td>48.190034</td>\n",
       "      <td>11.468105</td>\n",
       "      <td>Sport Bittl</td>\n",
       "      <td>48.191447</td>\n",
       "      <td>11.466553</td>\n",
       "      <td>Sporting Goods Shop</td>\n",
       "    </tr>\n",
       "    <tr>\n",
       "      <th>1</th>\n",
       "      <td>Allach-Untermenzing</td>\n",
       "      <td>48.190034</td>\n",
       "      <td>11.468105</td>\n",
       "      <td>Trattoria Olive</td>\n",
       "      <td>48.189905</td>\n",
       "      <td>11.466970</td>\n",
       "      <td>Trattoria/Osteria</td>\n",
       "    </tr>\n",
       "    <tr>\n",
       "      <th>2</th>\n",
       "      <td>Allach-Untermenzing</td>\n",
       "      <td>48.190034</td>\n",
       "      <td>11.468105</td>\n",
       "      <td>dm-drogerie markt</td>\n",
       "      <td>48.194118</td>\n",
       "      <td>11.465640</td>\n",
       "      <td>Drugstore</td>\n",
       "    </tr>\n",
       "    <tr>\n",
       "      <th>3</th>\n",
       "      <td>Allach-Untermenzing</td>\n",
       "      <td>48.190034</td>\n",
       "      <td>11.468105</td>\n",
       "      <td>Rossmann</td>\n",
       "      <td>48.193301</td>\n",
       "      <td>11.466388</td>\n",
       "      <td>Drugstore</td>\n",
       "    </tr>\n",
       "    <tr>\n",
       "      <th>4</th>\n",
       "      <td>Allach-Untermenzing</td>\n",
       "      <td>48.190034</td>\n",
       "      <td>11.468105</td>\n",
       "      <td>Hotel im Bunker</td>\n",
       "      <td>48.189208</td>\n",
       "      <td>11.466852</td>\n",
       "      <td>Hotel</td>\n",
       "    </tr>\n",
       "  </tbody>\n",
       "</table>\n",
       "</div>"
      ],
      "text/plain": [
       "              District   Latitude  Longitude              Venue  \\\n",
       "0  Allach-Untermenzing  48.190034  11.468105        Sport Bittl   \n",
       "1  Allach-Untermenzing  48.190034  11.468105    Trattoria Olive   \n",
       "2  Allach-Untermenzing  48.190034  11.468105  dm-drogerie markt   \n",
       "3  Allach-Untermenzing  48.190034  11.468105           Rossmann   \n",
       "4  Allach-Untermenzing  48.190034  11.468105    Hotel im Bunker   \n",
       "\n",
       "   Venue Latitude  Venue Longitude       Venue Category  \n",
       "0       48.191447        11.466553  Sporting Goods Shop  \n",
       "1       48.189905        11.466970    Trattoria/Osteria  \n",
       "2       48.194118        11.465640            Drugstore  \n",
       "3       48.193301        11.466388            Drugstore  \n",
       "4       48.189208        11.466852                Hotel  "
      ]
     },
     "execution_count": 18,
     "metadata": {},
     "output_type": "execute_result"
    }
   ],
   "source": [
    "# Lets visualize the head of the new dataframe\n",
    "munich_venues.head()"
   ]
  },
  {
   "cell_type": "markdown",
   "metadata": {},
   "source": [
    "Let's check how many venues were returned for each district"
   ]
  },
  {
   "cell_type": "code",
   "execution_count": 19,
   "metadata": {},
   "outputs": [
    {
     "data": {
      "text/html": [
       "<div>\n",
       "<style scoped>\n",
       "    .dataframe tbody tr th:only-of-type {\n",
       "        vertical-align: middle;\n",
       "    }\n",
       "\n",
       "    .dataframe tbody tr th {\n",
       "        vertical-align: top;\n",
       "    }\n",
       "\n",
       "    .dataframe thead th {\n",
       "        text-align: right;\n",
       "    }\n",
       "</style>\n",
       "<table border=\"1\" class=\"dataframe\">\n",
       "  <thead>\n",
       "    <tr style=\"text-align: right;\">\n",
       "      <th></th>\n",
       "      <th>Latitude</th>\n",
       "      <th>Longitude</th>\n",
       "      <th>Venue</th>\n",
       "      <th>Venue Latitude</th>\n",
       "      <th>Venue Longitude</th>\n",
       "      <th>Venue Category</th>\n",
       "    </tr>\n",
       "    <tr>\n",
       "      <th>District</th>\n",
       "      <th></th>\n",
       "      <th></th>\n",
       "      <th></th>\n",
       "      <th></th>\n",
       "      <th></th>\n",
       "      <th></th>\n",
       "    </tr>\n",
       "  </thead>\n",
       "  <tbody>\n",
       "    <tr>\n",
       "      <th>Allach-Untermenzing</th>\n",
       "      <td>31</td>\n",
       "      <td>31</td>\n",
       "      <td>31</td>\n",
       "      <td>31</td>\n",
       "      <td>31</td>\n",
       "      <td>31</td>\n",
       "    </tr>\n",
       "    <tr>\n",
       "      <th>Altstadt-Lehel</th>\n",
       "      <td>623</td>\n",
       "      <td>623</td>\n",
       "      <td>623</td>\n",
       "      <td>623</td>\n",
       "      <td>623</td>\n",
       "      <td>623</td>\n",
       "    </tr>\n",
       "    <tr>\n",
       "      <th>Au-Haidhausen</th>\n",
       "      <td>259</td>\n",
       "      <td>259</td>\n",
       "      <td>259</td>\n",
       "      <td>259</td>\n",
       "      <td>259</td>\n",
       "      <td>259</td>\n",
       "    </tr>\n",
       "    <tr>\n",
       "      <th>Aubing-Lochhausen-Langwied</th>\n",
       "      <td>20</td>\n",
       "      <td>20</td>\n",
       "      <td>20</td>\n",
       "      <td>20</td>\n",
       "      <td>20</td>\n",
       "      <td>20</td>\n",
       "    </tr>\n",
       "    <tr>\n",
       "      <th>Berg am Laim</th>\n",
       "      <td>40</td>\n",
       "      <td>40</td>\n",
       "      <td>40</td>\n",
       "      <td>40</td>\n",
       "      <td>40</td>\n",
       "      <td>40</td>\n",
       "    </tr>\n",
       "    <tr>\n",
       "      <th>Bogenhausen</th>\n",
       "      <td>42</td>\n",
       "      <td>42</td>\n",
       "      <td>42</td>\n",
       "      <td>42</td>\n",
       "      <td>42</td>\n",
       "      <td>42</td>\n",
       "    </tr>\n",
       "    <tr>\n",
       "      <th>Feldmoching-Hasenbergl</th>\n",
       "      <td>15</td>\n",
       "      <td>15</td>\n",
       "      <td>15</td>\n",
       "      <td>15</td>\n",
       "      <td>15</td>\n",
       "      <td>15</td>\n",
       "    </tr>\n",
       "    <tr>\n",
       "      <th>Hadern</th>\n",
       "      <td>39</td>\n",
       "      <td>39</td>\n",
       "      <td>39</td>\n",
       "      <td>39</td>\n",
       "      <td>39</td>\n",
       "      <td>39</td>\n",
       "    </tr>\n",
       "    <tr>\n",
       "      <th>Laim</th>\n",
       "      <td>67</td>\n",
       "      <td>67</td>\n",
       "      <td>67</td>\n",
       "      <td>67</td>\n",
       "      <td>67</td>\n",
       "      <td>67</td>\n",
       "    </tr>\n",
       "    <tr>\n",
       "      <th>Ludwigsvorstadt-Isarvorstadt</th>\n",
       "      <td>168</td>\n",
       "      <td>168</td>\n",
       "      <td>168</td>\n",
       "      <td>168</td>\n",
       "      <td>168</td>\n",
       "      <td>168</td>\n",
       "    </tr>\n",
       "    <tr>\n",
       "      <th>Maxvorstadt</th>\n",
       "      <td>324</td>\n",
       "      <td>324</td>\n",
       "      <td>324</td>\n",
       "      <td>324</td>\n",
       "      <td>324</td>\n",
       "      <td>324</td>\n",
       "    </tr>\n",
       "    <tr>\n",
       "      <th>Milbertshofen-Am Hart</th>\n",
       "      <td>33</td>\n",
       "      <td>33</td>\n",
       "      <td>33</td>\n",
       "      <td>33</td>\n",
       "      <td>33</td>\n",
       "      <td>33</td>\n",
       "    </tr>\n",
       "    <tr>\n",
       "      <th>Moosach</th>\n",
       "      <td>142</td>\n",
       "      <td>142</td>\n",
       "      <td>142</td>\n",
       "      <td>142</td>\n",
       "      <td>142</td>\n",
       "      <td>142</td>\n",
       "    </tr>\n",
       "    <tr>\n",
       "      <th>Neuhausen-Nymphenburg</th>\n",
       "      <td>136</td>\n",
       "      <td>136</td>\n",
       "      <td>136</td>\n",
       "      <td>136</td>\n",
       "      <td>136</td>\n",
       "      <td>136</td>\n",
       "    </tr>\n",
       "    <tr>\n",
       "      <th>Obergiesing</th>\n",
       "      <td>72</td>\n",
       "      <td>72</td>\n",
       "      <td>72</td>\n",
       "      <td>72</td>\n",
       "      <td>72</td>\n",
       "      <td>72</td>\n",
       "    </tr>\n",
       "    <tr>\n",
       "      <th>Pasing-Obermenzing</th>\n",
       "      <td>263</td>\n",
       "      <td>263</td>\n",
       "      <td>263</td>\n",
       "      <td>263</td>\n",
       "      <td>263</td>\n",
       "      <td>263</td>\n",
       "    </tr>\n",
       "    <tr>\n",
       "      <th>Ramersdorf-Perlach</th>\n",
       "      <td>82</td>\n",
       "      <td>82</td>\n",
       "      <td>82</td>\n",
       "      <td>82</td>\n",
       "      <td>82</td>\n",
       "      <td>82</td>\n",
       "    </tr>\n",
       "    <tr>\n",
       "      <th>Schwabing-Freimann</th>\n",
       "      <td>137</td>\n",
       "      <td>137</td>\n",
       "      <td>137</td>\n",
       "      <td>137</td>\n",
       "      <td>137</td>\n",
       "      <td>137</td>\n",
       "    </tr>\n",
       "    <tr>\n",
       "      <th>Schwabing-West</th>\n",
       "      <td>400</td>\n",
       "      <td>400</td>\n",
       "      <td>400</td>\n",
       "      <td>400</td>\n",
       "      <td>400</td>\n",
       "      <td>400</td>\n",
       "    </tr>\n",
       "    <tr>\n",
       "      <th>Schwanthalerhöhe</th>\n",
       "      <td>88</td>\n",
       "      <td>88</td>\n",
       "      <td>88</td>\n",
       "      <td>88</td>\n",
       "      <td>88</td>\n",
       "      <td>88</td>\n",
       "    </tr>\n",
       "    <tr>\n",
       "      <th>Sendling</th>\n",
       "      <td>350</td>\n",
       "      <td>350</td>\n",
       "      <td>350</td>\n",
       "      <td>350</td>\n",
       "      <td>350</td>\n",
       "      <td>350</td>\n",
       "    </tr>\n",
       "    <tr>\n",
       "      <th>Sendling-Westpark</th>\n",
       "      <td>42</td>\n",
       "      <td>42</td>\n",
       "      <td>42</td>\n",
       "      <td>42</td>\n",
       "      <td>42</td>\n",
       "      <td>42</td>\n",
       "    </tr>\n",
       "    <tr>\n",
       "      <th>Thalkirchen-Obersendling-Fürstenried-Forstenried-Solln</th>\n",
       "      <td>75</td>\n",
       "      <td>75</td>\n",
       "      <td>75</td>\n",
       "      <td>75</td>\n",
       "      <td>75</td>\n",
       "      <td>75</td>\n",
       "    </tr>\n",
       "    <tr>\n",
       "      <th>Trudering-Riem</th>\n",
       "      <td>53</td>\n",
       "      <td>53</td>\n",
       "      <td>53</td>\n",
       "      <td>53</td>\n",
       "      <td>53</td>\n",
       "      <td>53</td>\n",
       "    </tr>\n",
       "    <tr>\n",
       "      <th>Untergiesing-Harlaching</th>\n",
       "      <td>60</td>\n",
       "      <td>60</td>\n",
       "      <td>60</td>\n",
       "      <td>60</td>\n",
       "      <td>60</td>\n",
       "      <td>60</td>\n",
       "    </tr>\n",
       "  </tbody>\n",
       "</table>\n",
       "</div>"
      ],
      "text/plain": [
       "                                                    Latitude  Longitude  \\\n",
       "District                                                                  \n",
       "Allach-Untermenzing                                       31         31   \n",
       "Altstadt-Lehel                                           623        623   \n",
       "Au-Haidhausen                                            259        259   \n",
       "Aubing-Lochhausen-Langwied                                20         20   \n",
       "Berg am Laim                                              40         40   \n",
       "Bogenhausen                                               42         42   \n",
       "Feldmoching-Hasenbergl                                    15         15   \n",
       "Hadern                                                    39         39   \n",
       "Laim                                                      67         67   \n",
       "Ludwigsvorstadt-Isarvorstadt                             168        168   \n",
       "Maxvorstadt                                              324        324   \n",
       "Milbertshofen-Am Hart                                     33         33   \n",
       "Moosach                                                  142        142   \n",
       "Neuhausen-Nymphenburg                                    136        136   \n",
       "Obergiesing                                               72         72   \n",
       "Pasing-Obermenzing                                       263        263   \n",
       "Ramersdorf-Perlach                                        82         82   \n",
       "Schwabing-Freimann                                       137        137   \n",
       "Schwabing-West                                           400        400   \n",
       "Schwanthalerhöhe                                          88         88   \n",
       "Sendling                                                 350        350   \n",
       "Sendling-Westpark                                         42         42   \n",
       "Thalkirchen-Obersendling-Fürstenried-Forstenrie...        75         75   \n",
       "Trudering-Riem                                            53         53   \n",
       "Untergiesing-Harlaching                                   60         60   \n",
       "\n",
       "                                                    Venue  Venue Latitude  \\\n",
       "District                                                                    \n",
       "Allach-Untermenzing                                    31              31   \n",
       "Altstadt-Lehel                                        623             623   \n",
       "Au-Haidhausen                                         259             259   \n",
       "Aubing-Lochhausen-Langwied                             20              20   \n",
       "Berg am Laim                                           40              40   \n",
       "Bogenhausen                                            42              42   \n",
       "Feldmoching-Hasenbergl                                 15              15   \n",
       "Hadern                                                 39              39   \n",
       "Laim                                                   67              67   \n",
       "Ludwigsvorstadt-Isarvorstadt                          168             168   \n",
       "Maxvorstadt                                           324             324   \n",
       "Milbertshofen-Am Hart                                  33              33   \n",
       "Moosach                                               142             142   \n",
       "Neuhausen-Nymphenburg                                 136             136   \n",
       "Obergiesing                                            72              72   \n",
       "Pasing-Obermenzing                                    263             263   \n",
       "Ramersdorf-Perlach                                     82              82   \n",
       "Schwabing-Freimann                                    137             137   \n",
       "Schwabing-West                                        400             400   \n",
       "Schwanthalerhöhe                                       88              88   \n",
       "Sendling                                              350             350   \n",
       "Sendling-Westpark                                      42              42   \n",
       "Thalkirchen-Obersendling-Fürstenried-Forstenrie...     75              75   \n",
       "Trudering-Riem                                         53              53   \n",
       "Untergiesing-Harlaching                                60              60   \n",
       "\n",
       "                                                    Venue Longitude  \\\n",
       "District                                                              \n",
       "Allach-Untermenzing                                              31   \n",
       "Altstadt-Lehel                                                  623   \n",
       "Au-Haidhausen                                                   259   \n",
       "Aubing-Lochhausen-Langwied                                       20   \n",
       "Berg am Laim                                                     40   \n",
       "Bogenhausen                                                      42   \n",
       "Feldmoching-Hasenbergl                                           15   \n",
       "Hadern                                                           39   \n",
       "Laim                                                             67   \n",
       "Ludwigsvorstadt-Isarvorstadt                                    168   \n",
       "Maxvorstadt                                                     324   \n",
       "Milbertshofen-Am Hart                                            33   \n",
       "Moosach                                                         142   \n",
       "Neuhausen-Nymphenburg                                           136   \n",
       "Obergiesing                                                      72   \n",
       "Pasing-Obermenzing                                              263   \n",
       "Ramersdorf-Perlach                                               82   \n",
       "Schwabing-Freimann                                              137   \n",
       "Schwabing-West                                                  400   \n",
       "Schwanthalerhöhe                                                 88   \n",
       "Sendling                                                        350   \n",
       "Sendling-Westpark                                                42   \n",
       "Thalkirchen-Obersendling-Fürstenried-Forstenrie...               75   \n",
       "Trudering-Riem                                                   53   \n",
       "Untergiesing-Harlaching                                          60   \n",
       "\n",
       "                                                    Venue Category  \n",
       "District                                                            \n",
       "Allach-Untermenzing                                             31  \n",
       "Altstadt-Lehel                                                 623  \n",
       "Au-Haidhausen                                                  259  \n",
       "Aubing-Lochhausen-Langwied                                      20  \n",
       "Berg am Laim                                                    40  \n",
       "Bogenhausen                                                     42  \n",
       "Feldmoching-Hasenbergl                                          15  \n",
       "Hadern                                                          39  \n",
       "Laim                                                            67  \n",
       "Ludwigsvorstadt-Isarvorstadt                                   168  \n",
       "Maxvorstadt                                                    324  \n",
       "Milbertshofen-Am Hart                                           33  \n",
       "Moosach                                                        142  \n",
       "Neuhausen-Nymphenburg                                          136  \n",
       "Obergiesing                                                     72  \n",
       "Pasing-Obermenzing                                             263  \n",
       "Ramersdorf-Perlach                                              82  \n",
       "Schwabing-Freimann                                             137  \n",
       "Schwabing-West                                                 400  \n",
       "Schwanthalerhöhe                                                88  \n",
       "Sendling                                                       350  \n",
       "Sendling-Westpark                                               42  \n",
       "Thalkirchen-Obersendling-Fürstenried-Forstenrie...              75  \n",
       "Trudering-Riem                                                  53  \n",
       "Untergiesing-Harlaching                                         60  "
      ]
     },
     "execution_count": 19,
     "metadata": {},
     "output_type": "execute_result"
    }
   ],
   "source": [
    "munich_venues.groupby('District').count()"
   ]
  },
  {
   "cell_type": "markdown",
   "metadata": {},
   "source": [
    "Let's find out how many unique categories can be curated from all the returned venues"
   ]
  },
  {
   "cell_type": "code",
   "execution_count": 20,
   "metadata": {},
   "outputs": [
    {
     "name": "stdout",
     "output_type": "stream",
     "text": [
      "There are 200 uniques categories.\n"
     ]
    }
   ],
   "source": [
    "print('There are {} uniques categories.'.format(len(munich_venues['Venue Category'].unique())))"
   ]
  },
  {
   "cell_type": "markdown",
   "metadata": {},
   "source": [
    "## Analyze each District"
   ]
  },
  {
   "cell_type": "markdown",
   "metadata": {},
   "source": [
    "Now lets analyze each district in order to get an idea of venues in the districts."
   ]
  },
  {
   "cell_type": "code",
   "execution_count": null,
   "metadata": {},
   "outputs": [],
   "source": [
    "# lets get a one hot encoding of all differen\n",
    "munich_onehot = pd.get_dummies(munich_venues[['Venue Category']], prefix=\"\", prefix_sep=\"\")\n",
    "\n",
    "# add District column to dataframe\n",
    "munich_onehot.insert(0, 'District', munich_data_ll['District'])\n",
    "munich_onehot.head()"
   ]
  },
  {
   "cell_type": "markdown",
   "metadata": {},
   "source": [
    "### Next, let's group rows by neighborhood and by taking the mean of the frequency of occurrence of each category"
   ]
  },
  {
   "cell_type": "code",
   "execution_count": null,
   "metadata": {},
   "outputs": [],
   "source": [
    "munich_grouped = munich_onehot.groupby('District').mean().reset_index()\n",
    "munich_grouped.head(10)"
   ]
  },
  {
   "cell_type": "markdown",
   "metadata": {},
   "source": [
    "Let's check the new size"
   ]
  },
  {
   "cell_type": "code",
   "execution_count": null,
   "metadata": {},
   "outputs": [],
   "source": [
    "munich_grouped.shape"
   ]
  },
  {
   "cell_type": "markdown",
   "metadata": {},
   "source": [
    "#### Let's print each neighborhood along with the top 5 most common venues"
   ]
  },
  {
   "cell_type": "code",
   "execution_count": null,
   "metadata": {},
   "outputs": [],
   "source": [
    "num_top_venues = 5\n",
    "\n",
    "for hood in munich_grouped['District']:\n",
    "    print(\"----\"+hood+\"----\")\n",
    "    temp = munich_grouped[munich_grouped['District'] == hood].T.reset_index()\n",
    "    temp.columns = ['venue','freq']\n",
    "    temp = temp.iloc[1:]\n",
    "    temp['freq'] = temp['freq'].astype(float)\n",
    "    temp = temp.round({'freq': 2})\n",
    "    print(temp.sort_values('freq', ascending=False).reset_index(drop=True).head(num_top_venues))\n",
    "    print('\\n')"
   ]
  },
  {
   "cell_type": "markdown",
   "metadata": {},
   "source": [
    "#### Let's put that into a *pandas* dataframe"
   ]
  },
  {
   "cell_type": "markdown",
   "metadata": {},
   "source": [
    "First, let's write a function to sort the venues in descending order."
   ]
  },
  {
   "cell_type": "code",
   "execution_count": null,
   "metadata": {},
   "outputs": [],
   "source": [
    "def return_most_common_venues(row, num_top_venues):\n",
    "    row_categories = row.iloc[1:] # exclude District column\n",
    "    row_categories_sorted = row_categories.sort_values(ascending=False)\n",
    "    \n",
    "    return row_categories_sorted.index.values[0:num_top_venues]"
   ]
  },
  {
   "cell_type": "markdown",
   "metadata": {},
   "source": [
    "Now let's create the new dataframe and display the top 10 venues for each neighborhood."
   ]
  },
  {
   "cell_type": "code",
   "execution_count": null,
   "metadata": {},
   "outputs": [],
   "source": [
    "num_top_venues = 10\n",
    "\n",
    "indicators = ['st', 'nd', 'rd']\n",
    "\n",
    "# create columns according to number of top venues\n",
    "columns = ['District']\n",
    "for ind in np.arange(num_top_venues):\n",
    "    try:\n",
    "        columns.append('{}{} Most Common Venue'.format(ind+1, indicators[ind]))\n",
    "    except:\n",
    "        columns.append('{}th Most Common Venue'.format(ind+1))\n",
    "\n",
    "# create a new dataframe\n",
    "district_venues_sorted = pd.DataFrame(columns=columns)\n",
    "district_venues_sorted['District'] = munich_grouped['District']\n",
    "\n",
    "for ind in np.arange(munich_grouped.shape[0]):\n",
    "    district_venues_sorted.iloc[ind, 1:] = return_most_common_venues(munich_grouped.iloc[ind, :], num_top_venues)\n",
    "\n",
    "district_venues_sorted.head()"
   ]
  },
  {
   "cell_type": "markdown",
   "metadata": {},
   "source": [
    "## Cluster Neighborhoods"
   ]
  },
  {
   "cell_type": "markdown",
   "metadata": {},
   "source": [
    "Now that we have an overview about the data and made some first explorations, it's time to cluster the neighborhoods in order to get an idea about the types of neighborhoods and which district seems to be similar to which other districts."
   ]
  },
  {
   "cell_type": "code",
   "execution_count": null,
   "metadata": {},
   "outputs": [],
   "source": [
    "num_clusters = 5\n",
    "\n",
    "X = munich_grouped.drop('District', 1)\n",
    "\n",
    "kmeans = KMeans(n_clusters=num_clusters, random_state=0).fit(X)"
   ]
  },
  {
   "cell_type": "markdown",
   "metadata": {},
   "source": [
    "Let's create a new dataframe that includes the cluster as well as the top 10 venues for each neighborhood."
   ]
  },
  {
   "cell_type": "code",
   "execution_count": null,
   "metadata": {},
   "outputs": [],
   "source": [
    "# add clustering labels\n",
    "district_venues_sorted.insert(0, 'Cluster Labels', kmeans.labels_)\n",
    "\n",
    "munich_merged = munich_data_ll\n",
    "\n",
    "# merge labels and data about venues to district data and latitude plus longitude data to have all in one dataframe\n",
    "munich_merged = munich_merged.join(district_venues_sorted.set_index('District'), on='District')\n",
    "\n",
    "munich_merged.head()"
   ]
  },
  {
   "cell_type": "markdown",
   "metadata": {},
   "source": [
    "Finally, let's visualize the resulting clusters"
   ]
  },
  {
   "cell_type": "code",
   "execution_count": null,
   "metadata": {},
   "outputs": [],
   "source": [
    "# create map\n",
    "map_clusters = folium.Map(location=[latitude_munich, longitude_munich], zoom_start=11)\n",
    "\n",
    "# set color scheme for the clusters\n",
    "x = np.arange(num_clusters)\n",
    "ys = [i + x + (i*x)**2 for i in range(num_clusters)]\n",
    "colors_array = cm.rainbow(np.linspace(0, 1, len(ys)))\n",
    "rainbow = [colors.rgb2hex(i**4) for i in colors_array]\n",
    "\n",
    "# add markers to the map\n",
    "markers_colors = []\n",
    "for lat, lon, poi, cluster in zip(munich_merged['Latitude'], munich_merged['Longitude'], munich_merged['District'], munich_merged['Cluster Labels']):\n",
    "    label = folium.Popup(str(poi) + ' Cluster ' + str(cluster), parse_html=True)\n",
    "    folium.CircleMarker(\n",
    "        [lat, lon],\n",
    "        radius=5,\n",
    "        popup=label,\n",
    "        color=rainbow[cluster-1],\n",
    "        fill=True,\n",
    "        fill_color=rainbow[cluster-1],\n",
    "        fill_opacity=0.7).add_to(map_clusters)\n",
    "       \n",
    "map_clusters"
   ]
  },
  {
   "cell_type": "markdown",
   "metadata": {},
   "source": [
    "## Examine Clusters"
   ]
  },
  {
   "cell_type": "markdown",
   "metadata": {},
   "source": [
    "As last step, each cluster shall be examined according to its most frequent venues. Plot all values within a table."
   ]
  },
  {
   "cell_type": "code",
   "execution_count": null,
   "metadata": {},
   "outputs": [],
   "source": [
    "munich_merged.loc[munich_merged['Cluster Labels'] == 0, munich_merged.columns[[1] + list(range(5, munich_merged.shape[1]))]]"
   ]
  },
  {
   "cell_type": "code",
   "execution_count": null,
   "metadata": {},
   "outputs": [],
   "source": [
    "munich_merged.loc[munich_merged['Cluster Labels'] == 1, munich_merged.columns[[1] + list(range(5, munich_merged.shape[1]))]]"
   ]
  },
  {
   "cell_type": "code",
   "execution_count": null,
   "metadata": {},
   "outputs": [],
   "source": [
    "munich_merged.loc[munich_merged['Cluster Labels'] == 2, munich_merged.columns[[1] + list(range(5, munich_merged.shape[1]))]]"
   ]
  },
  {
   "cell_type": "code",
   "execution_count": null,
   "metadata": {},
   "outputs": [],
   "source": [
    "munich_merged.loc[munich_merged['Cluster Labels'] == 3, munich_merged.columns[[1] + list(range(5, munich_merged.shape[1]))]]"
   ]
  },
  {
   "cell_type": "code",
   "execution_count": null,
   "metadata": {},
   "outputs": [],
   "source": [
    "munich_merged.loc[munich_merged['Cluster Labels'] == 4, munich_merged.columns[[1] + list(range(5, munich_merged.shape[1]))]]"
   ]
  },
  {
   "cell_type": "code",
   "execution_count": null,
   "metadata": {},
   "outputs": [],
   "source": []
  }
 ],
 "metadata": {
  "kernelspec": {
   "display_name": "Python 3",
   "language": "python",
   "name": "python3"
  },
  "language_info": {
   "codemirror_mode": {
    "name": "ipython",
    "version": 3
   },
   "file_extension": ".py",
   "mimetype": "text/x-python",
   "name": "python",
   "nbconvert_exporter": "python",
   "pygments_lexer": "ipython3",
   "version": "3.7.3"
  }
 },
 "nbformat": 4,
 "nbformat_minor": 2
}
